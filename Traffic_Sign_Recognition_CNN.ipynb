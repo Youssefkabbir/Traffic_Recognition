{
 "cells": [
  {
   "cell_type": "markdown",
   "id": "e3263d9c-d77f-4497-b078-f22a1e1983ed",
   "metadata": {},
   "source": [
    "#                        <p align=\"center\"> **Traffic Signs Recognition** </p>\n"
   ]
  },
  {
   "cell_type": "markdown",
   "id": "0b0c14e9-c2f9-4b70-8665-a3e6bbc4dc66",
   "metadata": {},
   "source": [
    "## 1.The first step is to import required librairies"
   ]
  },
  {
   "cell_type": "code",
   "execution_count": 1,
   "id": "8c7dbc07-03a3-47ee-94ab-29c841e51c47",
   "metadata": {
    "tags": []
   },
   "outputs": [
    {
     "name": "stdout",
     "output_type": "stream",
     "text": [
      "the cell was executed without errors\n"
     ]
    }
   ],
   "source": [
    "\"\"\"pandas is a Python package that provides fast, flexible, and expressive data structures\n",
    "designed to make working with \"relational\" or \"labeled\" data both easy and intuitive.\"\"\"\n",
    "import pandas as pd\n",
    "\"\"\"NumPy is a Python library used for working with arrays.\n",
    "It also has functions for working in domain of linear algebra, fourier transform, and matrices.\"\"\"\n",
    "import numpy as np\n",
    "\n",
    "\"\"\"Matplotlib is a comprehensive library for creating static, animated, and interactive\n",
    "visualizations in Python. Matplotlib makes easy things easy and hard things possible.\"\"\"\n",
    "import  matplotlib.pyplot as plt \n",
    "\"\"\"OpenCV is the huge open-source library for the computer vision, machine learning, and image \n",
    "processing and now it plays a major role in real-time operation which is very important\n",
    "in today’s systems\"\"\"\n",
    "import cv2\n",
    "\"\"\"This module provides a portable way of using operating system dependent functionality. If you\n",
    "just want to read or write a file see open(), if you want to manipulate paths, see the os.path \n",
    "module, and if you want to read all the lines in all the files on the command line see the \n",
    "fileinput module\"\"\"\n",
    "import os\n",
    "\"\"\"The Python Imaging Library adds image processing capabilities to your Python interpreter.\n",
    "This library provides extensive file format support, an efficient internal representation, \n",
    "and fairly powerful image processing capabilities.\"\"\"\n",
    "from PIL import Image\n",
    "\"\"\"scikit-learn is a Python module for machine learning built on top of SciPy and is distributed\n",
    "under the 3-Clause BSD license.\"\"\"\n",
    "from sklearn.model_selection import train_test_split\n",
    "\"\"\"Tensorflow is one of the most-used deep-learning frameworks. It’s arguably the most popular\n",
    "machine learning platform on the web, with a broad range of users from those just starting out, \n",
    "to people looking for an edge in their careers and businesses. \"\"\"\n",
    "import tensorflow as tf \n",
    "from tensorflow.keras.utils import  to_categorical\n",
    "from tensorflow.keras.models import Sequential ,load_model\n",
    "from tensorflow.keras.layers import Conv2D,MaxPool2D,Dense ,Flatten,Dropout\n",
    "print('the cell was executed without errors')"
   ]
  },
  {
   "cell_type": "code",
   "execution_count": null,
   "id": "187cef82-f024-4f1e-aa8f-8e62c8d030ce",
   "metadata": {},
   "outputs": [],
   "source": []
  }
 ],
 "metadata": {
  "kernelspec": {
   "display_name": "Python 3 (ipykernel)",
   "language": "python",
   "name": "python3"
  },
  "language_info": {
   "codemirror_mode": {
    "name": "ipython",
    "version": 3
   },
   "file_extension": ".py",
   "mimetype": "text/x-python",
   "name": "python",
   "nbconvert_exporter": "python",
   "pygments_lexer": "ipython3",
   "version": "3.9.17"
  }
 },
 "nbformat": 4,
 "nbformat_minor": 5
}
