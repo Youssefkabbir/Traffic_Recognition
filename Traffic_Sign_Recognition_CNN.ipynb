{
 "cells": [
  {
   "cell_type": "markdown",
   "id": "e3263d9c-d77f-4497-b078-f22a1e1983ed",
   "metadata": {},
   "source": [
    "#                        <p align=\"center\"> **Traffic Signs Recognition** </p>\n"
   ]
  },
  {
   "cell_type": "markdown",
   "id": "0b0c14e9-c2f9-4b70-8665-a3e6bbc4dc66",
   "metadata": {},
   "source": [
    "## 1.The first step is to import required librairies"
   ]
  },
  {
   "cell_type": "code",
   "execution_count": null,
   "id": "8c7dbc07-03a3-47ee-94ab-29c841e51c47",
   "metadata": {},
   "outputs": [],
   "source": []
  }
 ],
 "metadata": {
  "kernelspec": {
   "display_name": "Python 3 (ipykernel)",
   "language": "python",
   "name": "python3"
  },
  "language_info": {
   "codemirror_mode": {
    "name": "ipython",
    "version": 3
   },
   "file_extension": ".py",
   "mimetype": "text/x-python",
   "name": "python",
   "nbconvert_exporter": "python",
   "pygments_lexer": "ipython3",
   "version": "3.9.17"
  }
 },
 "nbformat": 4,
 "nbformat_minor": 5
}
