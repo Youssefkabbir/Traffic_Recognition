{
 "cells": [
  {
   "cell_type": "markdown",
   "id": "e3263d9c-d77f-4497-b078-f22a1e1983ed",
   "metadata": {},
   "source": [
    "#                        <p align=\"center\"> **Traffic Signs Recognition** </p>\n"
   ]
  },
  {
   "cell_type": "markdown",
   "id": "0b0c14e9-c2f9-4b70-8665-a3e6bbc4dc66",
   "metadata": {},
   "source": [
    "## 1.The first step is to import required librairies"
   ]
  },
  {
   "cell_type": "code",
   "execution_count": 1,
   "id": "8c7dbc07-03a3-47ee-94ab-29c841e51c47",
   "metadata": {
    "tags": []
   },
   "outputs": [
    {
     "name": "stdout",
     "output_type": "stream",
     "text": [
      "the cell was executed without errors\n"
     ]
    }
   ],
   "source": [
    "\"\"\"pandas is a Python package that provides fast, flexible, and expressive data structures\n",
    "designed to make working with \"relational\" or \"labeled\" data both easy and intuitive.\"\"\"\n",
    "import pandas as pd\n",
    "\"\"\"NumPy is a Python library used for working with arrays.\n",
    "It also has functions for working in domain of linear algebra, fourier transform, and matrices.\"\"\"\n",
    "import numpy as np\n",
    "\n",
    "\"\"\"Matplotlib is a comprehensive library for creating static, animated, and interactive\n",
    "visualizations in Python. Matplotlib makes easy things easy and hard things possible.\"\"\"\n",
    "import  matplotlib.pyplot as plt \n",
    "\"\"\"OpenCV is the huge open-source library for the computer vision, machine learning, and image \n",
    "processing and now it plays a major role in real-time operation which is very important\n",
    "in today’s systems\"\"\"\n",
    "import cv2\n",
    "\"\"\"This module provides a portable way of using operating system dependent functionality. If you\n",
    "just want to read or write a file see open(), if you want to manipulate paths, see the os.path \n",
    "module, and if you want to read all the lines in all the files on the command line see the \n",
    "fileinput module\"\"\"\n",
    "import os\n",
    "\"\"\"The Python Imaging Library adds image processing capabilities to your Python interpreter.\n",
    "This library provides extensive file format support, an efficient internal representation, \n",
    "and fairly powerful image processing capabilities.\"\"\"\n",
    "from PIL import Image\n",
    "\"\"\"scikit-learn is a Python module for machine learning built on top of SciPy and is distributed\n",
    "under the 3-Clause BSD license.\"\"\"\n",
    "from sklearn.model_selection import train_test_split\n",
    "\"\"\"Tensorflow is one of the most-used deep-learning frameworks. It’s arguably the most popular\n",
    "machine learning platform on the web, with a broad range of users from those just starting out, \n",
    "to people looking for an edge in their careers and businesses. \"\"\"\n",
    "import tensorflow as tf \n",
    "from tensorflow.keras.utils import  to_categorical\n",
    "from tensorflow.keras.models import Sequential ,load_model\n",
    "from tensorflow.keras.layers import Conv2D,MaxPool2D,Dense ,Flatten,Dropout\n",
    "print('the cell was executed without errors')"
   ]
  },
  {
   "cell_type": "markdown",
   "id": "980e4aaf-3d0e-4630-b874-847ebae49b1a",
   "metadata": {},
   "source": [
    "## 2. Load the dataset"
   ]
  },
  {
   "cell_type": "code",
   "execution_count": 2,
   "id": "fad32254-6db3-410a-be85-8229e0175231",
   "metadata": {
    "tags": []
   },
   "outputs": [
    {
     "name": "stdout",
     "output_type": "stream",
     "text": [
      "the cell was executed without errors\n"
     ]
    }
   ],
   "source": [
    "data = []\n",
    "labels = []\n",
    "classes = 43\n",
    "Path_data=r'C:\\Users\\kabir\\Desktop\\Projetcs\\Traffic_Recognition\\data\\raw'\n",
    "\n",
    "#Retrieving the images and their labels \n",
    "for i in range(classes):\n",
    "    path = os.path.join(Path_data,'Train',str(i))\n",
    "    images = os.listdir(path)\n",
    "\n",
    "    for a in images:\n",
    "        try:\n",
    "            image = Image.open(path + '\\\\'+ a)\n",
    "            image = image.resize((30,30))\n",
    "            image = np.array(image)\n",
    "            data.append(image)\n",
    "            labels.append(i)\n",
    "        except:\n",
    "            print(\"Error loading image\")\n",
    "\n",
    "#Converting lists into numpy arrays\n",
    "data = np.array(data)\n",
    "labels = np.array(labels)\n",
    "print('the cell was executed without errors')"
   ]
  },
  {
   "cell_type": "code",
   "execution_count": 3,
   "id": "edc44d2b-fcfc-4746-8132-094df6e00b99",
   "metadata": {
    "tags": []
   },
   "outputs": [
    {
     "name": "stdout",
     "output_type": "stream",
     "text": [
      "(39209, 30, 30, 3)\n",
      "(39209,)\n"
     ]
    }
   ],
   "source": [
    "print(data.shape)\n",
    "print(labels.shape)"
   ]
  },
  {
   "cell_type": "markdown",
   "id": "d85ba4b8-a7d7-40a5-a7d2-47e34d26bb42",
   "metadata": {},
   "source": [
    "# we will split our Dataset into Train Part and  Validation part"
   ]
  },
  {
   "cell_type": "code",
   "execution_count": 4,
   "id": "6b1290aa-f460-4496-85ad-4bdcde5413d3",
   "metadata": {
    "tags": []
   },
   "outputs": [],
   "source": [
    "X_train,X_val,Y_train,Y_val=train_test_split(data,labels,train_size=0.8,random_state=10)"
   ]
  },
  {
   "cell_type": "markdown",
   "id": "4d2edc85-1708-4037-a673-2b25585e7eb1",
   "metadata": {},
   "source": [
    "# Label encoder (Dummy variables)"
   ]
  },
  {
   "cell_type": "code",
   "execution_count": 5,
   "id": "08503f45-009a-4bcc-880b-7af5fb7108e0",
   "metadata": {},
   "outputs": [],
   "source": [
    "Y_train=to_categorical(Y_train,43)"
   ]
  },
  {
   "cell_type": "code",
   "execution_count": 6,
   "id": "c5ac766d-b90b-4d21-a7bd-44bbc6a8fc39",
   "metadata": {},
   "outputs": [],
   "source": [
    "Y_val=to_categorical(Y_val,43)"
   ]
  },
  {
   "cell_type": "markdown",
   "id": "3698829a-3dfd-4cc9-8dd1-d3e91d25fb57",
   "metadata": {},
   "source": [
    "# In this section i will  build our model architecture"
   ]
  },
  {
   "cell_type": "code",
   "execution_count": null,
   "id": "e2af71ab-b8f8-422a-9543-f970bad58c07",
   "metadata": {
    "tags": []
   },
   "outputs": [
    {
     "name": "stdout",
     "output_type": "stream",
     "text": [
      "Epoch 1/15\n",
      "981/981 [==============================] - 24s 14ms/step - loss: 1.5696 - accuracy: 0.6144 - val_loss: 0.2261 - val_accuracy: 0.9455\n",
      "Epoch 2/15\n",
      "981/981 [==============================] - 10s 10ms/step - loss: 0.4294 - accuracy: 0.8800 - val_loss: 0.1050 - val_accuracy: 0.9712\n",
      "Epoch 3/15\n",
      "981/981 [==============================] - 10s 10ms/step - loss: 0.2911 - accuracy: 0.9220 - val_loss: 0.0783 - val_accuracy: 0.9807\n",
      "Epoch 4/15\n",
      "981/981 [==============================] - 10s 11ms/step - loss: 0.2343 - accuracy: 0.9371 - val_loss: 0.1543 - val_accuracy: 0.9546\n",
      "Epoch 5/15\n",
      "981/981 [==============================] - 12s 12ms/step - loss: 0.2217 - accuracy: 0.9411 - val_loss: 0.0680 - val_accuracy: 0.9833\n",
      "Epoch 6/15\n",
      "981/981 [==============================] - 12s 12ms/step - loss: 0.2074 - accuracy: 0.9459 - val_loss: 0.0458 - val_accuracy: 0.9874\n",
      "Epoch 7/15\n",
      "941/981 [===========================>..] - ETA: 0s - loss: 0.1864 - accuracy: 0.9531"
     ]
    }
   ],
   "source": [
    "model = Sequential()\n",
    "model.add(Conv2D(filters=32, kernel_size=(5,5), activation='relu', input_shape=X_train.shape[1:]))\n",
    "model.add(Conv2D(filters=32, kernel_size=(5,5), activation='relu'))\n",
    "model.add(MaxPool2D(pool_size=(2, 2)))\n",
    "model.add(Dropout(rate=0.25))\n",
    "model.add(Conv2D(filters=64, kernel_size=(3, 3), activation='relu'))\n",
    "model.add(Conv2D(filters=64, kernel_size=(3, 3), activation='relu'))\n",
    "model.add(MaxPool2D(pool_size=(2, 2)))\n",
    "model.add(Dropout(rate=0.25))\n",
    "model.add(Flatten())\n",
    "model.add(Dense(256, activation='relu'))\n",
    "model.add(Dropout(rate=0.5))\n",
    "model.add(Dense(43, activation='softmax'))\n",
    "#Compilation of the model\n",
    "model.compile(loss='categorical_crossentropy', optimizer='adam', metrics=['accuracy'])\n",
    "epochs = 15\n",
    "history = model.fit(X_train, Y_train, batch_size=32, epochs=epochs, validation_data=(X_val, Y_val))"
   ]
  },
  {
   "cell_type": "code",
   "execution_count": null,
   "id": "fceef3a6-17c6-433c-b473-19175128ad0b",
   "metadata": {
    "tags": []
   },
   "outputs": [],
   "source": [
    "#plotting graphs for accuracy \n",
    "plt.figure(0)\n",
    "plt.plot(history.history['accuracy'], label='training accuracy')\n",
    "plt.plot(history.history['val_accuracy'], label='val accuracy')\n",
    "plt.title('Accuracy')\n",
    "plt.xlabel('epochs')\n",
    "plt.ylabel('accuracy')\n",
    "plt.legend()\n",
    "plt.show()\n",
    "plt.figure(1)\n",
    "plt.plot(history.history['loss'], label='training loss')\n",
    "plt.plot(history.history['val_loss'], label='val loss')\n",
    "plt.title('Loss')\n",
    "plt.xlabel('epochs')\n",
    "plt.ylabel('loss')\n",
    "plt.legend()\n",
    "plt.show()\n"
   ]
  },
  {
   "cell_type": "code",
   "execution_count": null,
   "id": "7c9b4443-4b39-4d2b-9b8f-ced5b6b82bc7",
   "metadata": {
    "tags": []
   },
   "outputs": [],
   "source": [
    "model.save(\"Traffic_Sign_CNN_1.h5\")\n"
   ]
  },
  {
   "cell_type": "code",
   "execution_count": null,
   "id": "433b9d4a-b73a-43b1-bf85-d67c78308e3f",
   "metadata": {
    "tags": []
   },
   "outputs": [],
   "source": [
    "import tkinter as tk\n",
    "from tkinter import filedialog\n",
    "from tkinter import *\n",
    "from PIL import ImageTk, Image\n",
    "\n",
    "import numpy\n",
    "#load the trained model to classify sign\n",
    "from keras.models import load_model\n",
    "model = load_model('Traffic_Sign_CNN_1.h5')\n",
    "\n",
    "#dictionary to label all traffic signs class.\n",
    "classes = { 1:'Speed limit (20km/h)',\n",
    "            2:'Speed limit (30km/h)', \n",
    "            3:'Speed limit (50km/h)', \n",
    "            4:'Speed limit (60km/h)', \n",
    "            5:'Speed limit (70km/h)', \n",
    "            6:'Speed limit (80km/h)', \n",
    "            7:'End of speed limit (80km/h)', \n",
    "            8:'Speed limit (100km/h)', \n",
    "            9:'Speed limit (120km/h)', \n",
    "            10:'No passing', \n",
    "            11:'No passing veh over 3.5 tons', \n",
    "            12:'Right-of-way at intersection', \n",
    "            13:'Priority road', \n",
    "            14:'Yield', \n",
    "            15:'Stop', \n",
    "            16:'No vehicles', \n",
    "            17:'Veh > 3.5 tons prohibited', \n",
    "            18:'No entry', \n",
    "            19:'General caution', \n",
    "            20:'Dangerous curve left', \n",
    "            21:'Dangerous curve right', \n",
    "            22:'Double curve', \n",
    "            23:'Bumpy road', \n",
    "            24:'Slippery road', \n",
    "            25:'Road narrows on the right', \n",
    "            26:'Road work', \n",
    "            27:'Traffic signals', \n",
    "            28:'Pedestrians', \n",
    "            29:'Children crossing', \n",
    "            30:'Bicycles crossing', \n",
    "            31:'Beware of ice/snow',\n",
    "            32:'Wild animals crossing', \n",
    "            33:'End speed + passing limits', \n",
    "            34:'Turn right ahead', \n",
    "            35:'Turn left ahead', \n",
    "            36:'Ahead only', \n",
    "            37:'Go straight or right', \n",
    "            38:'Go straight or left', \n",
    "            39:'Keep right', \n",
    "            40:'Keep left', \n",
    "            41:'Roundabout mandatory', \n",
    "            42:'End of no passing', \n",
    "            43:'End no passing veh > 3.5 tons' }\n",
    "\n",
    "#initialise GUI\n",
    "top=tk.Tk()\n",
    "top.geometry('800x600')\n",
    "top.title('Traffic sign classification')\n",
    "top.configure(background='#CDCDCD')\n",
    "\n",
    "label=Label(top,background='#CDCDCD', font=('arial',15,'bold'))\n",
    "sign_image = Label(top)\n",
    "\n",
    "def kabir(file_path):\n",
    "    global label_packed\n",
    "    image = Image.open(file_path)\n",
    "    image = image.resize((30,30))\n",
    "    image = numpy.expand_dims(image, axis=0)\n",
    "    image = numpy.array(image)\n",
    "    predict_x=model.predict(image) \n",
    "    classes_x=numpy.argmax(predict_x,axis=1)[0]\n",
    "    sign = classes[classes_x+1]\n",
    "    print(sign)\n",
    "    label.configure(foreground='#011638', text=sign) \n",
    "\n",
    "def classify(file_path):\n",
    "    global label_packed\n",
    "    image = Image.open(file_path)\n",
    "    image = image.resize((30,30))\n",
    "    image = numpy.expand_dims(image, axis=0)\n",
    "    image = numpy.array(image)\n",
    "    pred = model.predict_classes([image])[0]\n",
    "    sign = classes[pred+1]\n",
    "    print(sign)\n",
    "    label.configure(foreground='#011638', text=sign) \n",
    "\n",
    "def show_classify_button(file_path):\n",
    "    classify_b=Button(top,text=\"Classify Image\",command=lambda: kabir(file_path),padx=10,pady=5)\n",
    "    classify_b.configure(background='#364156', foreground='white',font=('arial',10,'bold'))\n",
    "    classify_b.place(relx=0.79,rely=0.46)\n",
    "\n",
    "def upload_image():\n",
    "    try:\n",
    "        file_path=filedialog.askopenfilename()\n",
    "        uploaded=Image.open(file_path)\n",
    "        uploaded.thumbnail(((top.winfo_width()/2.25),(top.winfo_height()/2.25)))\n",
    "        im=ImageTk.PhotoImage(uploaded)\n",
    "\n",
    "        sign_image.configure(image=im)\n",
    "        sign_image.image=im\n",
    "        label.configure(text='')\n",
    "        show_classify_button(file_path)\n",
    "    except:\n",
    "        pass\n",
    "\n",
    "upload=Button(top,text=\"Upload an image\",command=upload_image,padx=10,pady=5)\n",
    "upload.configure(background='#364156', foreground='white',font=('arial',10,'bold'))\n",
    "\n",
    "upload.pack(side=BOTTOM,pady=50)\n",
    "sign_image.pack(side=BOTTOM,expand=True)\n",
    "label.pack(side=BOTTOM,expand=True)\n",
    "heading = Label(top, text=\"Know Your Traffic Sign\",pady=20, font=('arial',20,'bold'))\n",
    "heading.configure(background='#CDCDCD',foreground='#364156')\n",
    "heading.pack()\n",
    "top.mainloop()"
   ]
  },
  {
   "cell_type": "code",
   "execution_count": null,
   "id": "6ef86be1-5157-4d06-8cb5-6c316950d8cd",
   "metadata": {},
   "outputs": [],
   "source": []
  }
 ],
 "metadata": {
  "kernelspec": {
   "display_name": "Python 3 (ipykernel)",
   "language": "python",
   "name": "python3"
  },
  "language_info": {
   "codemirror_mode": {
    "name": "ipython",
    "version": 3
   },
   "file_extension": ".py",
   "mimetype": "text/x-python",
   "name": "python",
   "nbconvert_exporter": "python",
   "pygments_lexer": "ipython3",
   "version": "3.9.17"
  }
 },
 "nbformat": 4,
 "nbformat_minor": 5
}
